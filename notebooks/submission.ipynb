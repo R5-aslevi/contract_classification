{
 "cells": [
  {
   "cell_type": "code",
   "execution_count": 1,
   "metadata": {},
   "outputs": [],
   "source": [
    "import sys\n",
    "from functools import partial\n",
    "from zipfile import ZipFile\n",
    "import pandas as pd\n",
    "sys.path.append('../src')\n",
    "%matplotlib inline"
   ]
  },
  {
   "cell_type": "markdown",
   "metadata": {},
   "source": [
    "# Your contact details"
   ]
  },
  {
   "cell_type": "code",
   "execution_count": 2,
   "metadata": {},
   "outputs": [],
   "source": [
    "from gorenml import submit\n",
    "my_submit = partial(submit, \"Uri Goren\", \"Company\", \"uri@uatt.org.il\", \"050\")"
   ]
  },
  {
   "cell_type": "markdown",
   "metadata": {},
   "source": [
    "# Read data"
   ]
  },
  {
   "cell_type": "code",
   "execution_count": 3,
   "metadata": {},
   "outputs": [
    {
     "data": {
      "text/html": [
       "<div>\n",
       "<style scoped>\n",
       "    .dataframe tbody tr th:only-of-type {\n",
       "        vertical-align: middle;\n",
       "    }\n",
       "\n",
       "    .dataframe tbody tr th {\n",
       "        vertical-align: top;\n",
       "    }\n",
       "\n",
       "    .dataframe thead th {\n",
       "        text-align: right;\n",
       "    }\n",
       "</style>\n",
       "<table border=\"1\" class=\"dataframe\">\n",
       "  <thead>\n",
       "    <tr style=\"text-align: right;\">\n",
       "      <th></th>\n",
       "      <th>id</th>\n",
       "      <th>label</th>\n",
       "      <th>content</th>\n",
       "    </tr>\n",
       "  </thead>\n",
       "  <tbody>\n",
       "    <tr>\n",
       "      <th>2696</th>\n",
       "      <td>20800</td>\n",
       "      <td>rsu</td>\n",
       "      <td>EXHIBIT 10.1\\n\\nDORAL FINANCIAL CORPORATION  \\...</td>\n",
       "    </tr>\n",
       "    <tr>\n",
       "      <th>1557</th>\n",
       "      <td>10800</td>\n",
       "      <td>employment</td>\n",
       "      <td>\\n\\n\\nExhibit 10.4\\n\\n  \\n\\n\\n\\n\\nThis Emplo...</td>\n",
       "    </tr>\n",
       "    <tr>\n",
       "      <th>1942</th>\n",
       "      <td>14650</td>\n",
       "      <td>employment</td>\n",
       "      <td>Exhibit 10.04\\n\\n\\n\\nThis EMPLOYMENT AGREEMENT...</td>\n",
       "    </tr>\n",
       "    <tr>\n",
       "      <th>2797</th>\n",
       "      <td>21810</td>\n",
       "      <td>rsu</td>\n",
       "      <td>\\n\\n\\n\\n\\nLI3 ENERGY, INC.\\n\\nTHIS AGREEMENT...</td>\n",
       "    </tr>\n",
       "    <tr>\n",
       "      <th>2072</th>\n",
       "      <td>15950</td>\n",
       "      <td>employment</td>\n",
       "      <td>\\n  \\n\\n\\n\\n\\n  \\n\\n\\nThis employment agreem...</td>\n",
       "    </tr>\n",
       "    <tr>\n",
       "      <th>3514</th>\n",
       "      <td>28980</td>\n",
       "      <td>rsu</td>\n",
       "      <td>##### \\n\\nExhibit 10.3\\n\\nINTEL CORPORATION\\n\\...</td>\n",
       "    </tr>\n",
       "    <tr>\n",
       "      <th>3243</th>\n",
       "      <td>26270</td>\n",
       "      <td>rsu</td>\n",
       "      <td>Exhibit 10.59\\n\\n2006 ITT EDUCATIONAL SERVICES...</td>\n",
       "    </tr>\n",
       "    <tr>\n",
       "      <th>1359</th>\n",
       "      <td>08820</td>\n",
       "      <td>employment</td>\n",
       "      <td>Exhibit 10.2\\n\\n\\n\\nThis EMPLOYMENT AGREEMENT ...</td>\n",
       "    </tr>\n",
       "    <tr>\n",
       "      <th>3791</th>\n",
       "      <td>31750</td>\n",
       "      <td>rsu</td>\n",
       "      <td>Exhibit 10.20 \\n\\nPREFORMED LINE PRODUCTS COMP...</td>\n",
       "    </tr>\n",
       "    <tr>\n",
       "      <th>1779</th>\n",
       "      <td>13020</td>\n",
       "      <td>employment</td>\n",
       "      <td>AMENDMENT TO\\n\\n\\n\\n(Restated as of December 3...</td>\n",
       "    </tr>\n",
       "  </tbody>\n",
       "</table>\n",
       "</div>"
      ],
      "text/plain": [
       "         id       label                                            content\n",
       "2696  20800         rsu  EXHIBIT 10.1\\n\\nDORAL FINANCIAL CORPORATION  \\...\n",
       "1557  10800  employment    \\n\\n\\nExhibit 10.4\\n\\n  \\n\\n\\n\\n\\nThis Emplo...\n",
       "1942  14650  employment  Exhibit 10.04\\n\\n\\n\\nThis EMPLOYMENT AGREEMENT...\n",
       "2797  21810         rsu    \\n\\n\\n\\n\\nLI3 ENERGY, INC.\\n\\nTHIS AGREEMENT...\n",
       "2072  15950  employment    \\n  \\n\\n\\n\\n\\n  \\n\\n\\nThis employment agreem...\n",
       "3514  28980         rsu  ##### \\n\\nExhibit 10.3\\n\\nINTEL CORPORATION\\n\\...\n",
       "3243  26270         rsu  Exhibit 10.59\\n\\n2006 ITT EDUCATIONAL SERVICES...\n",
       "1359  08820  employment  Exhibit 10.2\\n\\n\\n\\nThis EMPLOYMENT AGREEMENT ...\n",
       "3791  31750         rsu  Exhibit 10.20 \\n\\nPREFORMED LINE PRODUCTS COMP...\n",
       "1779  13020  employment  AMENDMENT TO\\n\\n\\n\\n(Restated as of December 3..."
      ]
     },
     "execution_count": 3,
     "metadata": {},
     "output_type": "execute_result"
    }
   ],
   "source": [
    "data = []\n",
    "with ZipFile(\"../data/data.zip\") as z:\n",
    "    for fname in z.namelist():\n",
    "        if not fname.endswith('.txt') or not fname.startswith('data'):\n",
    "            continue\n",
    "        content = z.read(fname).decode('utf8')\n",
    "        label, idx = fname[5:-4].split('-', 1)\n",
    "        data.append((idx,label,content,))\n",
    "df_train = pd.DataFrame(data, columns=(\"id\", \"label\", \"content\"))\n",
    "df_train.sample(10)"
   ]
  },
  {
   "cell_type": "code",
   "execution_count": 4,
   "metadata": {},
   "outputs": [
    {
     "data": {
      "text/html": [
       "<div>\n",
       "<style scoped>\n",
       "    .dataframe tbody tr th:only-of-type {\n",
       "        vertical-align: middle;\n",
       "    }\n",
       "\n",
       "    .dataframe tbody tr th {\n",
       "        vertical-align: top;\n",
       "    }\n",
       "\n",
       "    .dataframe thead th {\n",
       "        text-align: right;\n",
       "    }\n",
       "</style>\n",
       "<table border=\"1\" class=\"dataframe\">\n",
       "  <thead>\n",
       "    <tr style=\"text-align: right;\">\n",
       "      <th></th>\n",
       "      <th>id</th>\n",
       "      <th>content</th>\n",
       "    </tr>\n",
       "  </thead>\n",
       "  <tbody>\n",
       "    <tr>\n",
       "      <th>518</th>\n",
       "      <td>04366</td>\n",
       "      <td>Exhibit 10.2\\n\\n\\n\\nTHIS EMPLOYMENT AGREEMENT ...</td>\n",
       "    </tr>\n",
       "    <tr>\n",
       "      <th>485</th>\n",
       "      <td>22212</td>\n",
       "      <td>Ex. 10.7\\n\\n  \\n\\n\\n  \\n\\n\\n\\n\\nThis Award Agr...</td>\n",
       "    </tr>\n",
       "    <tr>\n",
       "      <th>580</th>\n",
       "      <td>29778</td>\n",
       "      <td>##### \\n\\nExhibit 10.28\\n\\nCELANESE CORPORATIO...</td>\n",
       "    </tr>\n",
       "    <tr>\n",
       "      <th>593</th>\n",
       "      <td>40254</td>\n",
       "      <td>Exhibit 3.1\\n\\n\\n\\nTO THE\\n\\nARTICLES OF INCOR...</td>\n",
       "    </tr>\n",
       "    <tr>\n",
       "      <th>677</th>\n",
       "      <td>11057</td>\n",
       "      <td>\\n\\n\\nExhibit 10.1\\n\\nExecution Version\\n\\n ...</td>\n",
       "    </tr>\n",
       "    <tr>\n",
       "      <th>474</th>\n",
       "      <td>19496</td>\n",
       "      <td>Exhibit 10.28\\n\\nCHICO’S FAS, INC.  \\n2002 OMN...</td>\n",
       "    </tr>\n",
       "    <tr>\n",
       "      <th>319</th>\n",
       "      <td>26482</td>\n",
       "      <td>Exhibit 10.11.5 \\n\\nPAETEC HOLDING CORP. \\n\\n2...</td>\n",
       "    </tr>\n",
       "    <tr>\n",
       "      <th>260</th>\n",
       "      <td>28131</td>\n",
       "      <td>ATTENTION:  \\n  \\nTHIS RESTRICTED STOCK AWARD ...</td>\n",
       "    </tr>\n",
       "    <tr>\n",
       "      <th>550</th>\n",
       "      <td>01357</td>\n",
       "      <td>Exhibit 2.5\\n\\n\\n\\nSTOCK PURCHASE AGREEMENT\\n\\...</td>\n",
       "    </tr>\n",
       "    <tr>\n",
       "      <th>573</th>\n",
       "      <td>20953</td>\n",
       "      <td>Exhibit 10.31 \\n\\n\\n\\nPURSUANT TO THE SEACOR H...</td>\n",
       "    </tr>\n",
       "  </tbody>\n",
       "</table>\n",
       "</div>"
      ],
      "text/plain": [
       "        id                                            content\n",
       "518  04366  Exhibit 10.2\\n\\n\\n\\nTHIS EMPLOYMENT AGREEMENT ...\n",
       "485  22212  Ex. 10.7\\n\\n  \\n\\n\\n  \\n\\n\\n\\n\\nThis Award Agr...\n",
       "580  29778  ##### \\n\\nExhibit 10.28\\n\\nCELANESE CORPORATIO...\n",
       "593  40254  Exhibit 3.1\\n\\n\\n\\nTO THE\\n\\nARTICLES OF INCOR...\n",
       "677  11057    \\n\\n\\nExhibit 10.1\\n\\nExecution Version\\n\\n ...\n",
       "474  19496  Exhibit 10.28\\n\\nCHICO’S FAS, INC.  \\n2002 OMN...\n",
       "319  26482  Exhibit 10.11.5 \\n\\nPAETEC HOLDING CORP. \\n\\n2...\n",
       "260  28131  ATTENTION:  \\n  \\nTHIS RESTRICTED STOCK AWARD ...\n",
       "550  01357  Exhibit 2.5\\n\\n\\n\\nSTOCK PURCHASE AGREEMENT\\n\\...\n",
       "573  20953  Exhibit 10.31 \\n\\n\\n\\nPURSUANT TO THE SEACOR H..."
      ]
     },
     "execution_count": 4,
     "metadata": {},
     "output_type": "execute_result"
    }
   ],
   "source": [
    "data = []\n",
    "with ZipFile(\"../data/test_data.zip\") as z:\n",
    "    for fname in z.namelist():\n",
    "        content = z.read(fname).decode('utf8')\n",
    "        if not fname.endswith('.txt') or not fname.startswith('test'):\n",
    "            continue\n",
    "        idx = fname[5:-4]\n",
    "        data.append((idx,content,))\n",
    "df_test = pd.DataFrame(data, columns=(\"id\", \"content\"))\n",
    "df_test.sample(10)"
   ]
  },
  {
   "cell_type": "markdown",
   "metadata": {},
   "source": [
    "# Plot distribution of labels"
   ]
  },
  {
   "cell_type": "code",
   "execution_count": 5,
   "metadata": {},
   "outputs": [
    {
     "data": {
      "text/plain": [
       "<AxesSubplot:>"
      ]
     },
     "execution_count": 5,
     "metadata": {},
     "output_type": "execute_result"
    },
    {
     "data": {
      "image/png": "[encoded data removed]",
      "text/plain": [
       "<Figure size 432x288 with 1 Axes>"
      ]
     },
     "metadata": {
      "needs_background": "light"
     },
     "output_type": "display_data"
    }
   ],
   "source": [
    "df_train[\"label\"].hist()"
   ]
  },
  {
   "cell_type": "markdown",
   "metadata": {},
   "source": [
    "# Submit\n",
    "## Simple submission"
   ]
  },
  {
   "cell_type": "code",
   "execution_count": 6,
   "metadata": {},
   "outputs": [
    {
     "name": "stdout",
     "output_type": "stream",
     "text": [
      "<urlopen error [Errno -3] Temporary failure in name resolution>\n"
     ]
    }
   ],
   "source": [
    "# for all documents\n",
    "df_test[\"label\"] = \"rsu\"\n",
    "submission = dict(df_test[[\"id\",\"label\"]].values)\n",
    "#submission name must be unique\n",
    "submission_name = \"uri_most_likely\"\n",
    "my_submit(submission_name, submission)\n"
   ]
  },
  {
   "cell_type": "markdown",
   "metadata": {},
   "source": [
    "## Submission by string search\n"
   ]
  },
  {
   "cell_type": "code",
   "execution_count": 7,
   "metadata": {},
   "outputs": [
    {
     "name": "stdout",
     "output_type": "stream",
     "text": [
      "could not convert string to float: '<html><head><meta http-equiv=\"refresh\" content=\"30\" /></head><!DOCTYPE html>\\n<html lang=\"en\">\\n<head>\\n  <title>NLP Classification Workshop</title>\\n  <meta charset=\"utf-8\">\\n  <meta name=\"viewport\" content=\"width=device-width, initial-scale=1\">\\n  <link rel=\"stylesheet\" href=\"https://maxcdn.bootstrapcdn.com/bootstrap/4.2.1/css/bootstrap.min.css\">\\n  <script src=\"https://ajax.googleapis.com/ajax/libs/jquery/3.3.1/jquery.min.js\"></script>\\n  <script src=\"https://cdnjs.cloudflare.com/ajax/libs/popper.js/1.14.6/umd/popper.min.js\"></script>\\n  <script src=\"https://maxcdn.bootstrapcdn.com/bootstrap/4.2.1/js/bootstrap.min.js\"></script>\\n  <meta http-equiv=\"refresh\" content=\"30\" />\\n</head>\\n<body><div class=\"container\" align=\"center\">\\n<h1>Leader board</h1>\\n  <table class=\"table table-striped\">\\n    <thead>\\n      <tr>\\n        <th>Submission_id</th>\\n        <th>Accuracy</th>\\n      </tr>\\n    </thead>\\n    <tbody>\\n<tr><th>4</th><td>0</td></tr><tr><th>a</th><td>0</td></tr></tbody></table>\\n</div></body></html>\\n\\n'\n"
     ]
    }
   ],
   "source": [
    "df_test[\"label\"] = \"rsu\"\n",
    "df_test.loc[df_test[\"content\"].str.contains(\"EMPLOYMENT\"),\"label\"] = 'employment'\n",
    "df_test.loc[df_test[\"content\"].str.contains(\"CREDIT\"),\"label\"] = 'credit'\n",
    "df_test.loc[df_test[\"content\"].str.contains(\"BYLAWS\"),\"label\"] = 'bylaws'\n",
    "submission = dict(df_test[[\"id\",\"label\"]].values)\n",
    "\n",
    "submission_name = \"uri_string_search\"\n",
    "my_submit(submission_name, submission)"
   ]
  },
  {
   "cell_type": "markdown",
   "metadata": {},
   "source": [
    "# See how you rank\n",
    "Leaderboard is available at:\n",
    "http://www.goren.ml/leaderboard/"
   ]
  },
  {
   "cell_type": "code",
   "execution_count": null,
   "metadata": {},
   "outputs": [],
   "source": []
  }
 ],
 "metadata": {
  "kernelspec": {
   "display_name": "Python 3",
   "language": "python",
   "name": "python3"
  },
  "language_info": {
   "codemirror_mode": {
    "name": "ipython",
    "version": 3
   },
   "file_extension": ".py",
   "mimetype": "text/x-python",
   "name": "python",
   "nbconvert_exporter": "python",
   "pygments_lexer": "ipython3",
   "version": "3.8.5"
  }
 },
 "nbformat": 4,
 "nbformat_minor": 4
}
